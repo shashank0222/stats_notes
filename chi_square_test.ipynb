{
 "cells": [
  {
   "cell_type": "markdown",
   "id": "74fcf7c8-5e6d-448d-a686-05d993fa59aa",
   "metadata": {},
   "source": [
    "#  chi square test"
   ]
  },
  {
   "cell_type": "markdown",
   "id": "4a8b3cf8-c39d-4eeb-a1e2-0bfc09faef45",
   "metadata": {},
   "source": [
    "A chi-squared test (also chi-square or χ2 test) is a statistical hypothesis test used in the analysis of contingency tables when the sample sizes are large.\n",
    "\n",
    "In simpler terms, this test is primarily used to examine whether two categorical variables (two dimensions of the contingency table) are independent in influencing the test statistic.\n",
    "\n",
    "The formula for the chi-squared test is χ2 = Σ (Oi − Ei)2/ Ei, where χ2 represents the chi-squared value, Oi represents the observed value, Ei represents the expected value (that is, the value expected from the null hypothesis)"
   ]
  },
  {
   "cell_type": "code",
   "execution_count": 21,
   "id": "97f54f7f-36d9-40bb-a542-6850fbcff588",
   "metadata": {},
   "outputs": [],
   "source": [
    "from scipy  import stats"
   ]
  },
  {
   "cell_type": "code",
   "execution_count": 7,
   "id": "69f705fd-f4da-4cd7-a6bf-fb3eed94be04",
   "metadata": {},
   "outputs": [
    {
     "name": "stdout",
     "output_type": "stream",
     "text": [
      "26.666666666666668 1.61959679231261e-06\n"
     ]
    }
   ],
   "source": [
    "sample1 = [140,160,200]\n",
    "sample2 = [100,150,250]\n",
    "\n",
    "chi_statistic , p = stats.chisquare(sample1,sample2)\n",
    "print(chi_statistic,p)"
   ]
  },
  {
   "cell_type": "code",
   "execution_count": 19,
   "id": "c5c028be-58ae-4aec-88ea-0fb96b0218cd",
   "metadata": {},
   "outputs": [
    {
     "data": {
      "text/plain": [
       "26.666666666666668"
      ]
     },
     "execution_count": 19,
     "metadata": {},
     "output_type": "execute_result"
    }
   ],
   "source": [
    "chi_statistic"
   ]
  },
  {
   "cell_type": "code",
   "execution_count": 9,
   "id": "9912384c-cde5-4545-818f-0471037e366f",
   "metadata": {},
   "outputs": [],
   "source": [
    "# Now we have to find the critical value"
   ]
  },
  {
   "cell_type": "code",
   "execution_count": 13,
   "id": "9cb9c4e0-4756-40d3-b3fc-c4c5bceeb09a",
   "metadata": {},
   "outputs": [],
   "source": [
    "significance_value = 0.05\n",
    "\n",
    "df = 2\n",
    "\n",
    "confidence_interval = 1-significance_value"
   ]
  },
  {
   "cell_type": "code",
   "execution_count": 14,
   "id": "20f09915-5fab-425a-9fe1-0b2393706bfc",
   "metadata": {},
   "outputs": [
    {
     "data": {
      "text/plain": [
       "0.95"
      ]
     },
     "execution_count": 14,
     "metadata": {},
     "output_type": "execute_result"
    }
   ],
   "source": [
    "confidence_interval"
   ]
  },
  {
   "cell_type": "code",
   "execution_count": 17,
   "id": "f2e37e91-5d5c-4f98-ae09-976d44c8383a",
   "metadata": {},
   "outputs": [],
   "source": [
    "critical_value = stats.chi2.ppf(confidence_interval , df)"
   ]
  },
  {
   "cell_type": "code",
   "execution_count": 18,
   "id": "6382002d-13d1-4744-b20a-0909e1a3411a",
   "metadata": {},
   "outputs": [
    {
     "data": {
      "text/plain": [
       "5.991464547107979"
      ]
     },
     "execution_count": 18,
     "metadata": {},
     "output_type": "execute_result"
    }
   ],
   "source": [
    "critical_value"
   ]
  },
  {
   "cell_type": "code",
   "execution_count": 20,
   "id": "b02dd7ad-ff45-419d-8631-5bf26820dcdb",
   "metadata": {},
   "outputs": [
    {
     "name": "stdout",
     "output_type": "stream",
     "text": [
      "Null hypothesis is rejected\n"
     ]
    }
   ],
   "source": [
    "if chi_statistic > critical_value:\n",
    "    print(\"Null hypothesis is rejected\")\n",
    "    \n",
    "else:\n",
    "    print(\"NUll hypothesis is accepted and there is no difference between the two variables.\")"
   ]
  },
  {
   "cell_type": "code",
   "execution_count": null,
   "id": "3bdeef71-db52-432b-b28b-a9c0e97935ed",
   "metadata": {},
   "outputs": [],
   "source": []
  }
 ],
 "metadata": {
  "kernelspec": {
   "display_name": "Python 3 (ipykernel)",
   "language": "python",
   "name": "python3"
  },
  "language_info": {
   "codemirror_mode": {
    "name": "ipython",
    "version": 3
   },
   "file_extension": ".py",
   "mimetype": "text/x-python",
   "name": "python",
   "nbconvert_exporter": "python",
   "pygments_lexer": "ipython3",
   "version": "3.10.8"
  }
 },
 "nbformat": 4,
 "nbformat_minor": 5
}
