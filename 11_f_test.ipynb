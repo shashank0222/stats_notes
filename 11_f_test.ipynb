{
 "cells": [
  {
   "cell_type": "code",
   "execution_count": 1,
   "id": "40819be8-9e0f-4e67-b2c5-73a255dc1ec9",
   "metadata": {},
   "outputs": [],
   "source": [
    "# Evidence to say that two population variances are not equal\n",
    "\n",
    "#  check we come to the conclusion that whether one worker is better than the other\n"
   ]
  },
  {
   "cell_type": "code",
   "execution_count": 4,
   "id": "a7b92d38-e084-4849-9448-22ec96bfb3ff",
   "metadata": {},
   "outputs": [],
   "source": [
    "from scipy import stats\n",
    "import numpy as np\n"
   ]
  },
  {
   "cell_type": "code",
   "execution_count": 3,
   "id": "2dc6521d-4ccf-4e59-a60e-a0ad7309e729",
   "metadata": {},
   "outputs": [],
   "source": [
    "worker1 = [18,19,22,25,27,28,41,45,58,55]\n",
    "worker2 = [14,15,15,17,18,22,25,25,27,34]"
   ]
  },
  {
   "cell_type": "code",
   "execution_count": 5,
   "id": "66ffdad8-f4f9-4cef-af30-4857336d7247",
   "metadata": {},
   "outputs": [],
   "source": [
    "f_test = np.var(worker1)/np.var(worker2)"
   ]
  },
  {
   "cell_type": "code",
   "execution_count": 6,
   "id": "50d6c341-3f15-4e7c-83f3-0a41bbfe14d1",
   "metadata": {},
   "outputs": [
    {
     "data": {
      "text/plain": [
       "5.155370177267987"
      ]
     },
     "execution_count": 6,
     "metadata": {},
     "output_type": "execute_result"
    }
   ],
   "source": [
    "f_test"
   ]
  },
  {
   "cell_type": "code",
   "execution_count": 7,
   "id": "f9b93e6f-a429-471f-ae2a-c78a20d7067e",
   "metadata": {},
   "outputs": [],
   "source": [
    "#  finding the critical value"
   ]
  },
  {
   "cell_type": "code",
   "execution_count": 8,
   "id": "ba6a2f94-fa89-4466-83b3-b660f96cd42b",
   "metadata": {},
   "outputs": [],
   "source": [
    "significance_level = 0.5\n",
    "df1 = len(worker1)-1\n",
    "df2 = len(worker2)-1"
   ]
  },
  {
   "cell_type": "code",
   "execution_count": 9,
   "id": "82826a10-cb6b-4b20-97f2-c27f0d917571",
   "metadata": {},
   "outputs": [],
   "source": [
    "critical_value = stats.f.ppf(q=1-significance_level ,dfn = df1 , dfd = df2)"
   ]
  },
  {
   "cell_type": "code",
   "execution_count": 10,
   "id": "e7b5ef42-464b-4ab7-a849-5e73b987bab9",
   "metadata": {},
   "outputs": [
    {
     "data": {
      "text/plain": [
       "1.0"
      ]
     },
     "execution_count": 10,
     "metadata": {},
     "output_type": "execute_result"
    }
   ],
   "source": [
    "critical_value"
   ]
  },
  {
   "cell_type": "code",
   "execution_count": 11,
   "id": "a342ca85-4133-44d3-a88f-9da8dbb5112d",
   "metadata": {},
   "outputs": [
    {
     "name": "stdout",
     "output_type": "stream",
     "text": [
      "Reject the null hypothesis and one worker is more stable than other\n"
     ]
    }
   ],
   "source": [
    "if f_test > critical_value:\n",
    "    print(\"Reject the null hypothesis and one worker is more stable than other\")\n",
    "    \n",
    "else:\n",
    "    print(\"Accept the null hypothesis and both workers are equal\")"
   ]
  },
  {
   "cell_type": "code",
   "execution_count": null,
   "id": "46a8a9b1-6921-444a-9171-fabe1dc74e37",
   "metadata": {},
   "outputs": [],
   "source": []
  }
 ],
 "metadata": {
  "kernelspec": {
   "display_name": "Python 3 (ipykernel)",
   "language": "python",
   "name": "python3"
  },
  "language_info": {
   "codemirror_mode": {
    "name": "ipython",
    "version": 3
   },
   "file_extension": ".py",
   "mimetype": "text/x-python",
   "name": "python",
   "nbconvert_exporter": "python",
   "pygments_lexer": "ipython3",
   "version": "3.10.8"
  }
 },
 "nbformat": 4,
 "nbformat_minor": 5
}
