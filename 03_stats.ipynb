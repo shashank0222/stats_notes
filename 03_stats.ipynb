{
 "cells": [
  {
   "cell_type": "code",
   "execution_count": 2,
   "id": "539cae23-d083-430b-8e18-560638e92818",
   "metadata": {},
   "outputs": [],
   "source": [
    "import matplotlib.pyplot as plt\n",
    "import seaborn as sns\n",
    "import scipy\n",
    "import numpy as np\n",
    "import pylab"
   ]
  },
  {
   "cell_type": "code",
   "execution_count": 67,
   "id": "685662c8-7ee2-4249-8b40-f51a7f2bf0ed",
   "metadata": {},
   "outputs": [],
   "source": [
    "arr = np.random.binomial(n = 10 , p = 0.5 ,size = 100)"
   ]
  },
  {
   "cell_type": "code",
   "execution_count": 68,
   "id": "45743288-248c-48f2-a361-792f8dae0368",
   "metadata": {},
   "outputs": [
    {
     "data": {
      "text/plain": [
       "array([4, 3, 7, 6, 4, 7, 8, 8, 4, 5, 6, 2, 4, 7, 6, 6, 6, 5, 5, 5, 5, 5,\n",
       "       4, 2, 8, 5, 7, 5, 5, 3, 5, 5, 6, 5, 4, 5, 7, 6, 4, 4, 4, 3, 6, 6,\n",
       "       5, 5, 7, 6, 3, 6, 6, 7, 5, 2, 5, 7, 5, 2, 5, 7, 6, 5, 3, 2, 4, 5,\n",
       "       6, 6, 6, 6, 3, 5, 5, 4, 6, 3, 5, 4, 6, 5, 3, 3, 8, 3, 6, 4, 6, 4,\n",
       "       5, 8, 4, 4, 7, 4, 6, 6, 5, 5, 6, 5])"
      ]
     },
     "execution_count": 68,
     "metadata": {},
     "output_type": "execute_result"
    }
   ],
   "source": [
    "arr"
   ]
  },
  {
   "cell_type": "code",
   "execution_count": null,
   "id": "179c76a1-2e26-44be-8edb-9467dd07a6c5",
   "metadata": {},
   "outputs": [],
   "source": []
  },
  {
   "cell_type": "code",
   "execution_count": 69,
   "id": "e927e79d-2c5d-4d0d-bc9b-796d80cdf7a4",
   "metadata": {},
   "outputs": [
    {
     "data": {
      "text/plain": [
       "<AxesSubplot: ylabel='Count'>"
      ]
     },
     "execution_count": 69,
     "metadata": {},
     "output_type": "execute_result"
    },
    {
     "data": {
      "image/png": "[encoded data removed]",
      "text/plain": [
       "<Figure size 640x480 with 1 Axes>"
      ]
     },
     "metadata": {},
     "output_type": "display_data"
    }
   ],
   "source": [
    "sns.histplot(arr , kde = True)"
   ]
  },
  {
   "cell_type": "code",
   "execution_count": null,
   "id": "4689d8c5-2f4a-473c-8c2e-5cc20a177c26",
   "metadata": {},
   "outputs": [],
   "source": []
  },
  {
   "cell_type": "code",
   "execution_count": 70,
   "id": "0a7b5c27-9658-495e-95b0-f36a767347d4",
   "metadata": {},
   "outputs": [
    {
     "data": {
      "text/plain": [
       "5.0"
      ]
     },
     "execution_count": 70,
     "metadata": {},
     "output_type": "execute_result"
    }
   ],
   "source": [
    "scipy.stats.binom.mean(n = 10 , p = 0.5)  # mean = n*p"
   ]
  },
  {
   "cell_type": "code",
   "execution_count": 71,
   "id": "e38c95db-5f6e-465d-9364-79b837af7427",
   "metadata": {},
   "outputs": [
    {
     "data": {
      "text/plain": [
       "2.5"
      ]
     },
     "execution_count": 71,
     "metadata": {},
     "output_type": "execute_result"
    }
   ],
   "source": [
    "scipy.stats.binom.var(n = 10  , p = 0.5)   # variance = npq"
   ]
  },
  {
   "cell_type": "code",
   "execution_count": 72,
   "id": "4a2fd6e0-c325-4a14-a55f-04ca2f22d7a5",
   "metadata": {},
   "outputs": [
    {
     "data": {
      "text/plain": [
       "0.376953125"
      ]
     },
     "execution_count": 72,
     "metadata": {},
     "output_type": "execute_result"
    }
   ],
   "source": [
    "scipy.stats.binom.cdf(k=4 , n = 10 , p = 0.5)"
   ]
  },
  {
   "cell_type": "code",
   "execution_count": 73,
   "id": "f1078a5f-9da3-4caa-83ec-b632cf618889",
   "metadata": {},
   "outputs": [
    {
     "data": {
      "text/plain": [
       "0.009765625000000002"
      ]
     },
     "execution_count": 73,
     "metadata": {},
     "output_type": "execute_result"
    }
   ],
   "source": [
    "scipy.stats.binom.pmf(k=1 , n = 10 , p = 0.5)"
   ]
  },
  {
   "cell_type": "code",
   "execution_count": 74,
   "id": "9b25a00f-db0b-4247-a27d-e71a0c77e7c9",
   "metadata": {},
   "outputs": [
    {
     "data": {
      "text/plain": [
       "0.04394531250000004"
      ]
     },
     "execution_count": 74,
     "metadata": {},
     "output_type": "execute_result"
    }
   ],
   "source": [
    "scipy.stats.binom.pmf(k=2 , n = 10 , p = 0.5)"
   ]
  },
  {
   "cell_type": "code",
   "execution_count": 75,
   "id": "fd34c5c8-edb3-4777-ac20-bf951ba173d2",
   "metadata": {},
   "outputs": [
    {
     "data": {
      "text/plain": [
       "0.1171875"
      ]
     },
     "execution_count": 75,
     "metadata": {},
     "output_type": "execute_result"
    }
   ],
   "source": [
    "scipy.stats.binom.pmf(k=3 , n = 10 , p = 0.5)"
   ]
  },
  {
   "cell_type": "code",
   "execution_count": 76,
   "id": "6efb2c6f-8ac2-42aa-9f0a-4deded9cac6a",
   "metadata": {},
   "outputs": [
    {
     "data": {
      "text/plain": [
       "0.2050781249999999"
      ]
     },
     "execution_count": 76,
     "metadata": {},
     "output_type": "execute_result"
    }
   ],
   "source": [
    "scipy.stats.binom.pmf(k=4 , n = 10 , p = 0.5)"
   ]
  },
  {
   "cell_type": "code",
   "execution_count": 77,
   "id": "27cc5f4c-d86f-477c-b704-0d64767758a5",
   "metadata": {},
   "outputs": [],
   "source": [
    "x = scipy.stats.binom.pmf(k=1 , n = 10 , p = 0.5) + scipy.stats.binom.pmf(k=2 , n = 10 , p = 0.5) + scipy.stats.binom.pmf(k=3 , n = 10 , p = 0.5) + scipy.stats.binom.pmf(k=4 , n = 10 , p = 0.5)"
   ]
  },
  {
   "cell_type": "code",
   "execution_count": 78,
   "id": "d299d511-ad34-45ed-b713-84672ff620df",
   "metadata": {},
   "outputs": [
    {
     "data": {
      "text/plain": [
       "0.37597656249999994"
      ]
     },
     "execution_count": 78,
     "metadata": {},
     "output_type": "execute_result"
    }
   ],
   "source": [
    "x"
   ]
  },
  {
   "cell_type": "code",
   "execution_count": 79,
   "id": "ab0b0871-f4ef-4e31-83d1-8e8038ce5dc2",
   "metadata": {},
   "outputs": [],
   "source": [
    "z_score = scipy.stats.zscore(arr)   # formula : zscore = (xi - mean)/std"
   ]
  },
  {
   "cell_type": "code",
   "execution_count": 80,
   "id": "cf9cb0aa-c68a-4b1e-99fd-736e88fe397b",
   "metadata": {},
   "outputs": [
    {
     "data": {
      "text/plain": [
       "array([-0.73747519, -1.42670433,  1.33021225,  0.64098311, -0.73747519,\n",
       "        1.33021225,  2.0194414 ,  2.0194414 , -0.73747519, -0.04824604,\n",
       "        0.64098311, -2.11593348, -0.73747519,  1.33021225,  0.64098311,\n",
       "        0.64098311,  0.64098311, -0.04824604, -0.04824604, -0.04824604,\n",
       "       -0.04824604, -0.04824604, -0.73747519, -2.11593348,  2.0194414 ,\n",
       "       -0.04824604,  1.33021225, -0.04824604, -0.04824604, -1.42670433,\n",
       "       -0.04824604, -0.04824604,  0.64098311, -0.04824604, -0.73747519,\n",
       "       -0.04824604,  1.33021225,  0.64098311, -0.73747519, -0.73747519,\n",
       "       -0.73747519, -1.42670433,  0.64098311,  0.64098311, -0.04824604,\n",
       "       -0.04824604,  1.33021225,  0.64098311, -1.42670433,  0.64098311,\n",
       "        0.64098311,  1.33021225, -0.04824604, -2.11593348, -0.04824604,\n",
       "        1.33021225, -0.04824604, -2.11593348, -0.04824604,  1.33021225,\n",
       "        0.64098311, -0.04824604, -1.42670433, -2.11593348, -0.73747519,\n",
       "       -0.04824604,  0.64098311,  0.64098311,  0.64098311,  0.64098311,\n",
       "       -1.42670433, -0.04824604, -0.04824604, -0.73747519,  0.64098311,\n",
       "       -1.42670433, -0.04824604, -0.73747519,  0.64098311, -0.04824604,\n",
       "       -1.42670433, -1.42670433,  2.0194414 , -1.42670433,  0.64098311,\n",
       "       -0.73747519,  0.64098311, -0.73747519, -0.04824604,  2.0194414 ,\n",
       "       -0.73747519, -0.73747519,  1.33021225, -0.73747519,  0.64098311,\n",
       "        0.64098311, -0.04824604, -0.04824604,  0.64098311, -0.04824604])"
      ]
     },
     "execution_count": 80,
     "metadata": {},
     "output_type": "execute_result"
    }
   ],
   "source": [
    "z_score"
   ]
  },
  {
   "cell_type": "code",
   "execution_count": null,
   "id": "cb5858d0-1888-4397-b55e-ee2e34052b16",
   "metadata": {},
   "outputs": [],
   "source": []
  },
  {
   "cell_type": "markdown",
   "id": "71c55f4c-c083-41ab-9f92-bf5cbb43629e",
   "metadata": {},
   "source": [
    "#  Poisson distribution"
   ]
  },
  {
   "cell_type": "code",
   "execution_count": 81,
   "id": "e0cf4016-98cc-4d84-95d7-9c14927ce0bb",
   "metadata": {},
   "outputs": [],
   "source": [
    "arr = np.random.poisson(lam=3,size = 100)"
   ]
  },
  {
   "cell_type": "code",
   "execution_count": 82,
   "id": "ad8ef867-4a22-4613-8de6-d04f8aefde5a",
   "metadata": {},
   "outputs": [
    {
     "data": {
      "text/plain": [
       "array([1, 1, 1, 2, 2, 2, 5, 2, 3, 5, 3, 1, 3, 0, 4, 4, 1, 0, 1, 1, 8, 3,\n",
       "       5, 3, 4, 1, 1, 2, 5, 5, 1, 3, 0, 6, 2, 1, 2, 3, 0, 7, 3, 4, 1, 1,\n",
       "       5, 3, 0, 1, 4, 2, 1, 2, 2, 4, 4, 8, 6, 3, 2, 1, 1, 1, 5, 4, 2, 3,\n",
       "       7, 1, 3, 2, 2, 5, 0, 3, 5, 3, 2, 2, 3, 6, 6, 2, 7, 3, 1, 2, 5, 4,\n",
       "       3, 1, 0, 1, 1, 6, 6, 1, 3, 3, 3, 1])"
      ]
     },
     "execution_count": 82,
     "metadata": {},
     "output_type": "execute_result"
    }
   ],
   "source": [
    "arr"
   ]
  },
  {
   "cell_type": "code",
   "execution_count": 83,
   "id": "2c1cc010-7660-49a5-b3a4-5699575c4fb3",
   "metadata": {},
   "outputs": [
    {
     "data": {
      "text/plain": [
       "<AxesSubplot: ylabel='Count'>"
      ]
     },
     "execution_count": 83,
     "metadata": {},
     "output_type": "execute_result"
    },
    {
     "data": {
      "image/png": "[encoded data removed]",
      "text/plain": [
       "<Figure size 640x480 with 1 Axes>"
      ]
     },
     "metadata": {},
     "output_type": "display_data"
    }
   ],
   "source": [
    "sns.histplot(arr , kde = True)"
   ]
  },
  {
   "cell_type": "code",
   "execution_count": 84,
   "id": "50ee62c3-267c-462e-b6d4-50b458011990",
   "metadata": {},
   "outputs": [
    {
     "data": {
      "text/plain": [
       "3.0"
      ]
     },
     "execution_count": 84,
     "metadata": {},
     "output_type": "execute_result"
    }
   ],
   "source": [
    "scipy.stats.poisson.mean(mu= 3)"
   ]
  },
  {
   "cell_type": "code",
   "execution_count": 85,
   "id": "25d2f6f1-fc98-40f0-9a1a-42c6a454c993",
   "metadata": {},
   "outputs": [
    {
     "data": {
      "text/plain": [
       "3.0"
      ]
     },
     "execution_count": 85,
     "metadata": {},
     "output_type": "execute_result"
    }
   ],
   "source": [
    "scipy.stats.poisson.var(mu= 3)"
   ]
  },
  {
   "cell_type": "code",
   "execution_count": 89,
   "id": "621918ac-81ee-49ec-b50f-fb7e08fd59b5",
   "metadata": {},
   "outputs": [
    {
     "data": {
      "text/plain": [
       "1.7320508075688772"
      ]
     },
     "execution_count": 89,
     "metadata": {},
     "output_type": "execute_result"
    }
   ],
   "source": [
    "scipy.stats.poisson.std(mu= 3)"
   ]
  },
  {
   "cell_type": "code",
   "execution_count": 86,
   "id": "def5233b-e378-47cb-b36f-3b5284150ab9",
   "metadata": {},
   "outputs": [
    {
     "data": {
      "text/plain": [
       "0.16803135574154085"
      ]
     },
     "execution_count": 86,
     "metadata": {},
     "output_type": "execute_result"
    }
   ],
   "source": [
    "scipy.stats.poisson.pmf(k = 4 , mu=3)"
   ]
  },
  {
   "cell_type": "code",
   "execution_count": 87,
   "id": "f4f18bf9-e3fa-4009-954e-e4a896a53e1a",
   "metadata": {},
   "outputs": [
    {
     "data": {
      "text/plain": [
       "0.8152632445237722"
      ]
     },
     "execution_count": 87,
     "metadata": {},
     "output_type": "execute_result"
    }
   ],
   "source": [
    "scipy.stats.poisson.cdf(k = 4 , mu = 3)"
   ]
  },
  {
   "cell_type": "code",
   "execution_count": null,
   "id": "af51ad6f-6d0e-475f-83ca-d92f397f2bc0",
   "metadata": {},
   "outputs": [],
   "source": []
  },
  {
   "cell_type": "code",
   "execution_count": 88,
   "id": "b711df8e-c86d-4940-8300-a07977637812",
   "metadata": {},
   "outputs": [],
   "source": [
    "def z_score(x , mean ,var):\n",
    "    return (x-mean)/(var)**0.5"
   ]
  },
  {
   "cell_type": "code",
   "execution_count": 90,
   "id": "2260a93c-fca4-43a0-b405-7fdfedf5838c",
   "metadata": {},
   "outputs": [],
   "source": [
    "zscore = z_score(1,3,3)"
   ]
  },
  {
   "cell_type": "code",
   "execution_count": 92,
   "id": "88acc9d3-8e04-42ee-9943-78900094dea9",
   "metadata": {},
   "outputs": [
    {
     "data": {
      "text/plain": [
       "-0.6666666666666666"
      ]
     },
     "execution_count": 92,
     "metadata": {},
     "output_type": "execute_result"
    }
   ],
   "source": [
    "zscore"
   ]
  },
  {
   "cell_type": "code",
   "execution_count": null,
   "id": "35c2050f-6437-42d7-902a-0c364f8454b7",
   "metadata": {},
   "outputs": [],
   "source": []
  },
  {
   "cell_type": "markdown",
   "id": "42e0e0da-d120-4863-89f9-af47be91be87",
   "metadata": {},
   "source": [
    "# Normal Distribution"
   ]
  },
  {
   "cell_type": "code",
   "execution_count": 3,
   "id": "79e50472-856f-4dc0-a4f6-0e9eb3000f4e",
   "metadata": {},
   "outputs": [],
   "source": [
    "arr = np.random.normal(loc = 4 , scale = 1 , size = 100)"
   ]
  },
  {
   "cell_type": "code",
   "execution_count": 4,
   "id": "38a5ddf2-b8db-4fb2-b3a2-c89efe857e4b",
   "metadata": {},
   "outputs": [
    {
     "data": {
      "text/plain": [
       "array([4.24757705, 3.08847243, 5.66062695, 4.82798571, 4.67156752,\n",
       "       4.81397939, 4.39979287, 4.29731819, 3.27135163, 3.9575668 ,\n",
       "       5.97104976, 4.36363901, 4.0290974 , 2.52066097, 6.13186065,\n",
       "       4.56003857, 3.20600005, 4.24316936, 3.9361209 , 4.60383456,\n",
       "       3.58104873, 4.39424104, 4.94979558, 3.24198388, 4.90465601,\n",
       "       2.87069981, 4.05861156, 5.19396287, 3.40646242, 3.51878462,\n",
       "       4.63156826, 4.92761795, 3.88889684, 4.14991611, 4.14034543,\n",
       "       4.66960093, 4.51834169, 4.6633487 , 3.87588941, 4.4524949 ,\n",
       "       3.22557886, 5.48648309, 2.77989148, 4.32400236, 4.54998578,\n",
       "       4.30888811, 4.53766887, 5.62694438, 3.48678512, 4.53639157,\n",
       "       3.0308568 , 3.0702302 , 3.59284972, 4.67156041, 3.86804766,\n",
       "       3.40100479, 6.24189626, 2.67264876, 3.50191595, 4.4699781 ,\n",
       "       4.48665912, 3.84710373, 4.93785832, 3.07324771, 3.81691834,\n",
       "       3.8338709 , 2.39269923, 4.8976726 , 3.40604441, 4.10302424,\n",
       "       3.74690691, 3.68245936, 2.42616664, 3.8818649 , 5.24488389,\n",
       "       5.49194319, 4.964559  , 2.44608376, 5.66151765, 4.40659673,\n",
       "       5.46826033, 3.62892719, 3.89599426, 3.20553297, 4.59142562,\n",
       "       2.74636017, 5.7983427 , 3.90792734, 5.16041837, 1.56013762,\n",
       "       5.52568809, 3.12639061, 4.63966617, 3.97161176, 3.41227026,\n",
       "       3.16951353, 4.0803926 , 2.12080085, 4.44561794, 3.02627085])"
      ]
     },
     "execution_count": 4,
     "metadata": {},
     "output_type": "execute_result"
    }
   ],
   "source": [
    "arr"
   ]
  },
  {
   "cell_type": "code",
   "execution_count": 6,
   "id": "1c5661ec-1c45-4b09-8f5c-d18bec900305",
   "metadata": {},
   "outputs": [
    {
     "data": {
      "image/png": "[encoded data removed]",
      "text/plain": [
       "<Figure size 800x400 with 2 Axes>"
      ]
     },
     "metadata": {},
     "output_type": "display_data"
    }
   ],
   "source": [
    "plt.figure(figsize = (8,4))\n",
    "plt.subplot(1,2,1)\n",
    "sns.histplot(arr,kde=True)\n",
    "\n",
    "plt.subplot(1,2,2)\n",
    "scipy.stats.probplot(arr,dist = \"norm\" , plot = pylab)\n",
    "\n",
    "plt.show()"
   ]
  },
  {
   "cell_type": "code",
   "execution_count": 3,
   "id": "ea603739-e6b0-475e-890b-55093ef17b77",
   "metadata": {},
   "outputs": [],
   "source": [
    "from scipy import stats"
   ]
  },
  {
   "cell_type": "code",
   "execution_count": 4,
   "id": "38661022-49e6-42c1-bb3f-131118bd53fd",
   "metadata": {},
   "outputs": [
    {
     "data": {
      "text/plain": [
       "0.3989422804014327"
      ]
     },
     "execution_count": 4,
     "metadata": {},
     "output_type": "execute_result"
    }
   ],
   "source": [
    "stats.norm.pdf(4 , loc = 4 , scale = 1)"
   ]
  },
  {
   "cell_type": "code",
   "execution_count": 20,
   "id": "cd97a997-0774-4203-bcba-453bfaeb9d9f",
   "metadata": {},
   "outputs": [
    {
     "data": {
      "text/plain": [
       "0.5"
      ]
     },
     "execution_count": 20,
     "metadata": {},
     "output_type": "execute_result"
    }
   ],
   "source": [
    "stats.norm.cdf(4 , 4 , 1)"
   ]
  },
  {
   "cell_type": "code",
   "execution_count": 21,
   "id": "82a08807-119b-41b4-9947-4a4b504d5bba",
   "metadata": {},
   "outputs": [],
   "source": [
    "def z_score(x , mean ,var):\n",
    "    return (x-mean)/(var)**0.5"
   ]
  },
  {
   "cell_type": "code",
   "execution_count": 22,
   "id": "e3e13364-564d-4d0f-aeee-c3cd96e71455",
   "metadata": {},
   "outputs": [],
   "source": [
    "z = z_score(4.24757705,4,1)"
   ]
  },
  {
   "cell_type": "code",
   "execution_count": 23,
   "id": "93aca0f7-aa85-46f9-bdca-2f27869e00d6",
   "metadata": {},
   "outputs": [
    {
     "data": {
      "text/plain": [
       "0.2475770500000003"
      ]
     },
     "execution_count": 23,
     "metadata": {},
     "output_type": "execute_result"
    }
   ],
   "source": [
    "z"
   ]
  },
  {
   "cell_type": "markdown",
   "id": "996efb0e-c735-47db-9858-b893a09b9aae",
   "metadata": {},
   "source": [
    "# standard normal distribution"
   ]
  },
  {
   "cell_type": "code",
   "execution_count": 24,
   "id": "e5c6bc93-fb89-4ca6-ab38-906c44639bde",
   "metadata": {},
   "outputs": [],
   "source": [
    "arr1 = stats.zscore(arr)   # standard normal distribution.  "
   ]
  },
  {
   "cell_type": "code",
   "execution_count": 25,
   "id": "09cdd9ac-dc8c-4f03-9752-8d7bb377defe",
   "metadata": {},
   "outputs": [
    {
     "data": {
      "text/plain": [
       "array([ 1.53059841e-01, -1.08719666e+00,  1.66504099e+00,  7.74104398e-01,\n",
       "        6.06734965e-01,  7.59117459e-01,  3.15932679e-01,  2.06283492e-01,\n",
       "       -8.91513615e-01, -1.57254763e-01,  1.99719728e+00,  2.77247601e-01,\n",
       "       -8.07161228e-02, -1.69476205e+00,  2.16926696e+00,  4.87397597e-01,\n",
       "       -9.61440629e-01,  1.48343561e-01, -1.80202144e-01,  5.34259853e-01,\n",
       "       -5.60133825e-01,  3.09992157e-01,  9.04442488e-01, -9.22937477e-01,\n",
       "        8.56142577e-01, -1.32021610e+00, -4.91356069e-02,  1.16570455e+00,\n",
       "       -7.46943370e-01, -6.26757213e-01,  5.63935261e-01,  8.80712149e-01,\n",
       "       -2.30732482e-01,  4.85614104e-02,  3.83206669e-02,  6.04630698e-01,\n",
       "        4.42781407e-01,  5.97940730e-01, -2.44650605e-01,  3.72324514e-01,\n",
       "       -9.40491059e-01,  1.47870487e+00, -1.41738215e+00,  2.34835880e-01,\n",
       "        4.76640985e-01,  2.18663443e-01,  4.63461733e-01,  1.62900021e+00,\n",
       "       -6.60997073e-01,  4.62095009e-01, -1.14884611e+00, -1.10671607e+00,\n",
       "       -5.47506624e-01,  6.06727367e-01, -2.53041373e-01, -7.52783102e-01,\n",
       "        2.28700645e+00, -1.53213320e+00, -6.44806904e-01,  3.91031755e-01,\n",
       "        4.08880662e-01, -2.75451636e-01,  8.91669467e-01, -1.10348730e+00,\n",
       "       -3.07750384e-01, -2.89610937e-01, -1.83168272e+00,  8.48670250e-01,\n",
       "       -7.47390647e-01, -1.61347831e-03, -3.82663491e-01, -4.51623180e-01,\n",
       "       -1.79587217e+00, -2.38256750e-01,  1.22019069e+00,  1.48454724e+00,\n",
       "        9.20239529e-01, -1.77456060e+00,  1.66599404e+00,  3.23212898e-01,\n",
       "        1.45920628e+00, -5.08903274e-01, -2.23138154e-01, -9.61940408e-01,\n",
       "        5.20982126e-01, -1.45326107e+00,  1.81239856e+00, -2.10369610e-01,\n",
       "        1.12981152e+00, -2.72253410e+00,  1.52065470e+00, -1.04662373e+00,\n",
       "        5.72600128e-01, -1.42226482e-01, -7.40728913e-01, -1.00048166e+00,\n",
       "       -2.58296143e-02, -2.12261740e+00,  3.64966085e-01, -1.15375313e+00])"
      ]
     },
     "execution_count": 25,
     "metadata": {},
     "output_type": "execute_result"
    }
   ],
   "source": [
    "arr1"
   ]
  },
  {
   "cell_type": "code",
   "execution_count": 30,
   "id": "885747ce-51be-4a05-b8de-11fce495facf",
   "metadata": {},
   "outputs": [
    {
     "data": {
      "text/plain": [
       "2.6645352591003756e-16"
      ]
     },
     "execution_count": 30,
     "metadata": {},
     "output_type": "execute_result"
    }
   ],
   "source": [
    "np.mean(arr1)  # 0"
   ]
  },
  {
   "cell_type": "code",
   "execution_count": 31,
   "id": "1383ca76-3b98-4cc6-8a56-dcf82d2ef492",
   "metadata": {},
   "outputs": [
    {
     "data": {
      "text/plain": [
       "1.0"
      ]
     },
     "execution_count": 31,
     "metadata": {},
     "output_type": "execute_result"
    }
   ],
   "source": [
    "np.std(arr1)  # 1"
   ]
  },
  {
   "cell_type": "code",
   "execution_count": null,
   "id": "ce54bea3-0aa7-4654-9f5c-92742c4b3c44",
   "metadata": {},
   "outputs": [],
   "source": []
  }
 ],
 "metadata": {
  "kernelspec": {
   "display_name": "Python 3 (ipykernel)",
   "language": "python",
   "name": "python3"
  },
  "language_info": {
   "codemirror_mode": {
    "name": "ipython",
    "version": 3
   },
   "file_extension": ".py",
   "mimetype": "text/x-python",
   "name": "python",
   "nbconvert_exporter": "python",
   "pygments_lexer": "ipython3",
   "version": "3.10.8"
  }
 },
 "nbformat": 4,
 "nbformat_minor": 5
}
